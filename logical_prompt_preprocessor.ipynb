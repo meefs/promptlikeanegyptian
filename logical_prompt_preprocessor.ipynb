import openai

# Set up OpenAI API key (replace with your OpenAI API key)
# openai.api_key = "your-api-key"

def refine_logic_with_constraints(input_prompt, round_num, constraints=None):
    """
    Refines the natural language input into a more formal logical expression, considering edge cases, constraints, and autonomous reasoning.

    Args:
    - input_prompt (str): The original natural language prompt.
    - round_num (int): The round of refinement (1, 2, or 3).
    - constraints (list, optional): A list of additional constraints or conditions to apply to the logic.

    Returns:
    - str: The refined logical expression.
    """
    prompt = ""

    # Build the prompt with constraints if any
    constraints_text = "\n".join([f"Constraint: {constraint}" for constraint in (constraints or [])])

    if round_num == 1:
        prompt = f"""
        Convert the following natural language statement into a logical expression (predicate or propositional logic):
        {input_prompt}

        {constraints_text}
        """
    elif round_num == 2:
        prompt = f"""
        Take the following logical expression and make it more formal, structured, and precise, considering any constraints:
        {input_prompt}

        {constraints_text}
        """
    elif round_num == 3:
        prompt = f"""
        Further refine the following logical expression to make it clearer, more readable, and stronger, considering constraints and possible edge cases:
        {input_prompt}

        {constraints_text}
        """

    # Send request to OpenAI API using ChatCompletion for chat models
    response = openai.ChatCompletion.create(
        model="gpt-4",
        messages=[{"role": "user", "content": prompt}],
        max_tokens=800,
        temperature=0.7  # Adjust for creativity and variability in responses
    )

    return response.choices[0].message['content'].strip()

def convert_logical_expression_to_natural_language(final_logical_expression):
    """
    Converts the final logical expression back into a natural language prompt that OpenAI can process.

    Args:
    - final_logical_expression (str): The final well-defined logical expression.

    Returns:
    - str: The advanced natural language prompt that represents the final logical expression.
    """
    prompt = f"""
    Given the following logical expression:

    {final_logical_expression}

    Please provide a detailed analysis of the relationships between the variables and conditions involved. The prompt should:
    1. Explain the conditions under which the logical expression holds true.
    2. Describe any constraints or edge cases that need to be considered.
    3. Provide an in-depth explanation of how the conditions interplay with each other (e.g., dependency between format requirements, submission timing, and accommodations).
    4. Consider the possible scenarios such as submission deadlines, technical issues, and accommodations for students with special permissions.
    5. Make the explanation as clear and comprehensive as possible, suitable for understanding by a broad audience, and include any relevant background context.
    """

    # Send request to OpenAI API to convert logical expression into natural language
    response = openai.ChatCompletion.create(
        model="gpt-4",
        messages=[{"role": "user", "content": prompt}],
        max_tokens=800,
        temperature=0.7
    )

    return response.choices[0].message['content'].strip()

def process_natural_language_input_with_research(input_prompt, constraints=None):
    """
    Processes the input prompt in 3 rounds, improving complexity and constraints, while performing autonomous research where needed.

    Args:
    - input_prompt (str): The natural language statement to process.
    - constraints (list, optional): A list of additional constraints or conditions to apply to the logic.

    Returns:
    - str: The final, well-defined logical expression after 3 rounds of refinement.
    """
    # First round: Convert natural language to logical expression
    round_1_output = refine_logic_with_constraints(input_prompt, round_num=1, constraints=constraints)
    print(f"Round 1 Output:\n{round_1_output}\n")

    # Second round: Refine the logical expression
    round_2_output = refine_logic_with_constraints(round_1_output, round_num=2, constraints=constraints)
    print(f"Round 2 Output:\n{round_2_output}\n")

    # Third round: Further refine and simplify the expression
    round_3_output = refine_logic_with_constraints(round_2_output, round_num=3, constraints=constraints)
    print(f"Round 3 Output:\n{round_3_output}\n")

    # Convert the final logical expression back into advanced natural language
    final_prompt = convert_logical_expression_to_natural_language(round_3_output)
    print(f"Final Advanced Prompt:\n{final_prompt}\n")

    return final_prompt

# Example usage:
input_prompt = "All students in the class must submit their assignments by the deadline."
constraints = [
    "Consider that the assignment may have multiple formats (e.g., PDF, Word).",
    "Assume that the submission system has potential downtime during the final hour.",
    "Check whether some students might have accommodations to submit late."
]

final_prompt = process_natural_language_input_with_research(input_prompt, constraints)

# Output the final advanced natural language prompt
print(f"Final Advanced Natural Language Prompt:\n{final_prompt}")
